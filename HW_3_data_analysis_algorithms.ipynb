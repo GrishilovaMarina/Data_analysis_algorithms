{
  "nbformat": 4,
  "nbformat_minor": 0,
  "metadata": {
    "colab": {
      "provenance": []
    },
    "kernelspec": {
      "name": "python3",
      "display_name": "Python 3"
    },
    "language_info": {
      "name": "python"
    }
  },
  "cells": [
    {
      "cell_type": "code",
      "source": [
        "import numpy as np\n",
        "import matplotlib.pyplot as plt"
      ],
      "metadata": {
        "id": "BQmoxtdymV4r"
      },
      "execution_count": 1,
      "outputs": []
    },
    {
      "cell_type": "code",
      "source": [
        "X = np.array([ [   1,    1,  500,    1],\n",
        "               [   1,    1,  700,    1],\n",
        "               [   1,    2,  750,    2],\n",
        "               [   1,    5,  600,    1],\n",
        "               [   1,    3, 1450,    2],\n",
        "               [   1,    0,  800,    1],\n",
        "               [   1,    5, 1500,    3],\n",
        "               [   1,   10, 2000,    3],\n",
        "               [   1,    1,  450,    1],\n",
        "               [   1,    2, 1000,    2]], dtype=np.float64)\n",
        "\n",
        "y = np.array([0, 0, 1, 0, 1, 0, 1, 0, 1, 1], dtype=np.float64)"
      ],
      "metadata": {
        "id": "2Wn_daBRmZei"
      },
      "execution_count": 2,
      "outputs": []
    },
    {
      "cell_type": "code",
      "source": [
        "def standard_scale(x):\n",
        "    res = (x - x.mean()) / x.std()\n",
        "    return res"
      ],
      "metadata": {
        "id": "skJp-mmTmfnu"
      },
      "execution_count": 3,
      "outputs": []
    },
    {
      "cell_type": "code",
      "source": [
        "X_st = X.copy()\n",
        "X_st[:, 2] = standard_scale(X[:, 2])"
      ],
      "metadata": {
        "id": "7E7GT8lGmjNm"
      },
      "execution_count": 4,
      "outputs": []
    },
    {
      "cell_type": "code",
      "source": [
        "def sigmoid(z):\n",
        "    res = 1 / (1 + np.exp(-z))\n",
        "    return res"
      ],
      "metadata": {
        "id": "8pAUpRCAoW_t"
      },
      "execution_count": 5,
      "outputs": []
    },
    {
      "cell_type": "code",
      "execution_count": 6,
      "metadata": {
        "id": "gd17gL3MaDQ4"
      },
      "outputs": [],
      "source": [
        "def calc_logloss(y, y_pred):\n",
        "    err = - np.mean(y * np.log(y_pred) + (1.0 - y) * np.log(1.0 - y_pred))\n",
        "    return err"
      ]
    },
    {
      "cell_type": "markdown",
      "source": [
        "###Измените функцию calc_logloss так, чтобы нули по возможности не попадали в np.log"
      ],
      "metadata": {
        "id": "5CvcuIp6bm__"
      }
    },
    {
      "cell_type": "code",
      "source": [
        "def calc_logloss(y, y_pred):\n",
        "    y_pred = np.clip(y_pred, 1e-10, (1 - 1e-10)) #добавим ограничения\n",
        "    err = - np.mean(y * np.log(y_pred) + (1.0 - y) * np.log(1.0 - y_pred))\n",
        "    return err"
      ],
      "metadata": {
        "id": "_JOUWgE6pLDL"
      },
      "execution_count": 7,
      "outputs": []
    },
    {
      "cell_type": "markdown",
      "source": [
        "###Создайте функцию calc_pred_proba, возвращающую предсказанную вероятность класса \"1\". На вход функции подаются значения признаков Х и веса, которые уже посчитаны функцией eval_model."
      ],
      "metadata": {
        "id": "yCFAiGH3bvcE"
      }
    },
    {
      "cell_type": "code",
      "source": [
        "def eval_model(X, y, iterations, eta=1e-4):\n",
        "    np.random.seed(42)\n",
        "    W = np.random.randn(X.shape[1])\n",
        "    n = X.shape[0]\n",
        "    \n",
        "    for i in range(iterations):\n",
        "        z = np.dot(X, W)\n",
        "        y_pred = sigmoid(z)\n",
        "        err = calc_logloss(y, y_pred)\n",
        "        \n",
        "        dQ = 1/n * X.T @ (y_pred - y)\n",
        "        W -= eta * dQ\n",
        "        if i % (iterations / 10) == 0:\n",
        "            print(i, W, err)\n",
        "    return W"
      ],
      "metadata": {
        "id": "pRfNWWMJm5j6"
      },
      "execution_count": 8,
      "outputs": []
    },
    {
      "cell_type": "code",
      "source": [
        "W = eval_model(X_st, y, iterations=500, eta=1e-4)"
      ],
      "metadata": {
        "colab": {
          "base_uri": "https://localhost:8080/"
        },
        "id": "kGEF-KabnJJq",
        "outputId": "cd95d4a0-b00d-4b20-e8a1-f0902d537494"
      },
      "execution_count": 9,
      "outputs": [
        {
          "output_type": "stream",
          "name": "stdout",
          "text": [
            "0 [ 0.49667621 -0.13840939  0.6476858   1.52297324] 1.1785958344356262\n",
            "50 [ 0.494784   -0.14564801  0.6475462   1.52014828] 1.1657985749255426\n",
            "100 [ 0.49290109 -0.15285535  0.64740132  1.51733474] 1.1531112685708473\n",
            "150 [ 0.49102761 -0.16003088  0.64725118  1.51453281] 1.140535275330502\n",
            "200 [ 0.48916364 -0.16717404  0.64709581  1.51174267] 1.1280719326917483\n",
            "250 [ 0.48730929 -0.17428428  0.64693524  1.50896452] 1.1157225565960736\n",
            "300 [ 0.48546465 -0.18136107  0.64676951  1.50619853] 1.1034884426224387\n",
            "350 [ 0.48362982 -0.18840385  0.64659868  1.5034449 ] 1.0913708674192037\n",
            "400 [ 0.48180488 -0.19541206  0.64642281  1.50070383] 1.0793710903721336\n",
            "450 [ 0.47998993 -0.20238516  0.64624195  1.49797551] 1.0674903554915993\n"
          ]
        }
      ]
    },
    {
      "cell_type": "code",
      "source": [
        "def calc_pred_proba(X, W):\n",
        "  z = np.dot(X,W)\n",
        "  y_pred_proba = sigmoid(z)\n",
        "  return y_pred_proba"
      ],
      "metadata": {
        "id": "Org_zaMVvM3c"
      },
      "execution_count": 10,
      "outputs": []
    },
    {
      "cell_type": "code",
      "source": [
        "calc_pred_proba(X_st, W)"
      ],
      "metadata": {
        "colab": {
          "base_uri": "https://localhost:8080/"
        },
        "id": "6Nhik5sEx_JM",
        "outputId": "300cc9f3-1a9e-4b0f-96a5-a15d42c04453"
      },
      "execution_count": 11,
      "outputs": [
        {
          "output_type": "execute_result",
          "data": {
            "text/plain": [
              "array([0.75611147, 0.80185849, 0.93995282, 0.60539057, 0.96994385,\n",
              "       0.85073423, 0.99022143, 0.98576897, 0.74361806, 0.95621914])"
            ]
          },
          "metadata": {},
          "execution_count": 11
        }
      ]
    },
    {
      "cell_type": "markdown",
      "source": [
        "###Создайте функцию calc_pred, возвращающую предсказанные классы (0 или 1). На вход функции подаются значения признаков Х и веса, которые уже посчитаны функцией eval_model, а также порог вероятности."
      ],
      "metadata": {
        "id": "bRKuPuGao0lL"
      }
    },
    {
      "cell_type": "code",
      "source": [
        "def calc_pred(X, W, prob_threshold):\n",
        "  y_pred_proba = calc_pred_proba(X, W)\n",
        "  y_pred = np.where(y_pred_proba > prob_threshold, 1, 0)\n",
        "  return y_pred\n"
      ],
      "metadata": {
        "id": "otUD_ZU4zhHD"
      },
      "execution_count": 12,
      "outputs": []
    },
    {
      "cell_type": "code",
      "source": [
        "calc_pred(X_st, W, 0.5)"
      ],
      "metadata": {
        "colab": {
          "base_uri": "https://localhost:8080/"
        },
        "id": "Ctk8rjfm14BM",
        "outputId": "9b820c8d-25d7-4833-c138-2341c4a56102"
      },
      "execution_count": 13,
      "outputs": [
        {
          "output_type": "execute_result",
          "data": {
            "text/plain": [
              "array([1, 1, 1, 1, 1, 1, 1, 1, 1, 1])"
            ]
          },
          "metadata": {},
          "execution_count": 13
        }
      ]
    }
  ]
}