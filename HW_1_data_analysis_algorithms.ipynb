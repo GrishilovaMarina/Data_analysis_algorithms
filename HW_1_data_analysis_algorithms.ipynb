{
  "cells": [
    {
      "cell_type": "markdown",
      "metadata": {
        "id": "Kw01g10zBjZr"
      },
      "source": [
        "###1. Проведите небольшое исследование алгоритма градиентного спуска. Оцените влияние значений скорости обучения (eta) и количества итераций на ошибку алгоритма. Как связаны эти два гиперпараметра между собой? Подберите скорость обучения и количество итераций до совпадения ответов алгоритма с результатами МНК. Как можно ускорить процесс вычисления весов?"
      ]
    },
    {
      "cell_type": "code",
      "execution_count": 1,
      "metadata": {
        "id": "ak8b3KV45kVW"
      },
      "outputs": [],
      "source": [
        "import numpy as np\n",
        "import matplotlib.pyplot as plt"
      ]
    },
    {
      "cell_type": "code",
      "execution_count": 2,
      "metadata": {
        "id": "i77tZbAd5plB",
        "outputId": "e6ab5793-8987-463d-d3b1-37e9fac498c0",
        "colab": {
          "base_uri": "https://localhost:8080/"
        }
      },
      "outputs": [
        {
          "output_type": "execute_result",
          "data": {
            "text/plain": [
              "array([[ 1,  1,  1,  1,  1,  1,  1,  1,  1,  1],\n",
              "       [ 1,  1,  2,  5,  3,  0,  5, 10,  1,  2]])"
            ]
          },
          "metadata": {},
          "execution_count": 2
        }
      ],
      "source": [
        "X = np.array([[1, 1, 1, 1, 1, 1, 1, 1, 1, 1],\n",
        "              [1, 1, 2, 5, 3, 0, 5, 10, 1, 2]])\n",
        "X"
      ]
    },
    {
      "cell_type": "code",
      "execution_count": 3,
      "metadata": {
        "id": "VsNrKi1Q6Wmh"
      },
      "outputs": [],
      "source": [
        "y = [45, 55, 50, 55, 60, 35, 75, 80, 50, 60]"
      ]
    },
    {
      "cell_type": "markdown",
      "metadata": {
        "id": "R4zHyZ2Da5HV"
      },
      "source": [
        "Метод наименьших квадратов (МНК):"
      ]
    },
    {
      "cell_type": "code",
      "execution_count": 4,
      "metadata": {
        "colab": {
          "base_uri": "https://localhost:8080/"
        },
        "id": "mnyZzkaDBegD",
        "outputId": "78bb4cd8-9cd9-408d-9383-c0b65dc4c687"
      },
      "outputs": [
        {
          "output_type": "execute_result",
          "data": {
            "text/plain": [
              "array([45.0625,  3.8125])"
            ]
          },
          "metadata": {},
          "execution_count": 4
        }
      ],
      "source": [
        "W = np.linalg.inv(np.dot(X, X.T)) @ X @ y\n",
        "W"
      ]
    },
    {
      "cell_type": "code",
      "execution_count": 5,
      "metadata": {
        "id": "IukREVxDBjaM"
      },
      "outputs": [],
      "source": [
        "y_pred = W[0] * X[0] + W[1] * X[1]"
      ]
    },
    {
      "cell_type": "code",
      "execution_count": 6,
      "metadata": {
        "id": "JTSC2cFnCd8T"
      },
      "outputs": [],
      "source": [
        "def calc_mae(y, y_pred):\n",
        "    err = np.mean(np.abs(y - y_pred))\n",
        "    return err\n",
        "\n",
        "def calc_mse(y, y_pred):\n",
        "    err = np.mean((y - y_pred)**2) \n",
        "    return err"
      ]
    },
    {
      "cell_type": "code",
      "execution_count": 7,
      "metadata": {
        "colab": {
          "base_uri": "https://localhost:8080/"
        },
        "id": "_WtO6lvhDmQ6",
        "outputId": "d3fa95fe-7fca-4d6f-bed1-ea3d529e1d76"
      },
      "outputs": [
        {
          "output_type": "execute_result",
          "data": {
            "text/plain": [
              "(5.7875, 43.96875000000001)"
            ]
          },
          "metadata": {},
          "execution_count": 7
        }
      ],
      "source": [
        "calc_mae(y, y_pred), calc_mse(y, y_pred)"
      ]
    },
    {
      "cell_type": "markdown",
      "metadata": {
        "id": "huXrhXQsZTMt"
      },
      "source": [
        "###Подбираем скорость обучения (eta) и количество итераций."
      ]
    },
    {
      "cell_type": "code",
      "execution_count": 9,
      "metadata": {
        "id": "IDB22MQKMYaJ",
        "colab": {
          "base_uri": "https://localhost:8080/"
        },
        "outputId": "d0bcd1bc-ead9-4663-deea-ad36bf938690"
      },
      "outputs": [
        {
          "output_type": "stream",
          "name": "stdout",
          "text": [
            "Number of objects = 10        \n",
            "Learning rate = 0.07        \n",
            "Initial weights = [1.  0.5] \n",
            "\n",
            "Iteration #0: W_new = [ 8.56 26.89], MSE = 3047.75\n",
            "Iteration #10: W_new = [ 77.6383687  303.28629524], MSE = 883503.58\n",
            "Iteration #20: W_new = [ 450.90605195 2307.89992718], MSE = 63697662.63\n",
            "Iteration #30: W_new = [1355.05865491 7265.43057927], MSE = 759157636.93\n",
            "Iteration #40: W_new = [1656.99819636 8914.92234113], MSE = 1380982759.17\n",
            "Iteration #50: W_new = [ 779.46519336 4066.86103893], MSE = 349955460.88\n",
            "Iteration #60: W_new = [161.91141784 656.21255294], MSE = 11111228.63\n",
            "Iteration #70: W_new = [50.45227039 38.57457849], MSE = 39076.53\n",
            "Iteration #80: W_new = [44.59577005  4.47859734], MSE = 57.22\n",
            "Iteration #90: W_new = [44.68931156  3.88282148], MSE = 44.04\n",
            "Iteration #100: W_new = [44.81198438  3.85793017], MSE = 44.0\n",
            "Iteration #110: W_new = [44.89125028  3.8435535 ], MSE = 43.98\n",
            "Iteration #120: W_new = [44.94325639  3.83412299], MSE = 43.98\n",
            "Iteration #130: W_new = [44.97800009  3.82782276], MSE = 43.97\n",
            "Iteration #140: W_new = [45.00161389  3.82354076], MSE = 43.97\n",
            "Iteration #150: W_new = [45.0179277  3.8205825], MSE = 43.97\n",
            "Iteration #160: W_new = [45.02937478  3.81850675], MSE = 43.97\n",
            "Iteration #170: W_new = [45.03752656  3.81702855], MSE = 43.97\n",
            "Iteration #180: W_new = [45.04341381  3.81596099], MSE = 43.97\n",
            "Iteration #190: W_new = [45.04772282  3.81517961], MSE = 43.97\n",
            "Iteration #200: W_new = [45.050917   3.8146004], MSE = 43.97\n",
            "Iteration #210: W_new = [45.05331359  3.81416581], MSE = 43.97\n",
            "Iteration #220: W_new = [45.05513254  3.81383598], MSE = 43.97\n",
            "Iteration #230: W_new = [45.05652825  3.81358288], MSE = 43.97\n"
          ]
        }
      ],
      "source": [
        "n = X.shape[1]\n",
        "eta = 0.07 ###ИЗМЕНИЛИ С 0.01 НА 0.07\n",
        "W = np.array([1, 0.5])\n",
        "print(f'Number of objects = {n} \\\n",
        "       \\nLearning rate = {eta} \\\n",
        "       \\nInitial weights = {W} \\n')\n",
        "\n",
        "for i in range(240): ###УВЕЛИЧИЛИ С 100 ДО 240\n",
        "    y_pred = np.dot(W, X)\n",
        "    err = calc_mse(y, y_pred)\n",
        "    \n",
        "    for k in range(W.shape[0]):\n",
        "        W[k] -= eta * (1/n * 2 * np.sum(X[k] * (y_pred - y)))\n",
        "    if i % 10 == 0:\n",
        "        eta /= 1.05 ###ИЗМЕНИЛИ СНИЖЕНИЕ СКОРОСТИ ОБУЧЕНИЯ КАЖДЫЕ 10 ШАГОВ С 10% ДО 5%\n",
        "        print(f'Iteration #{i}: W_new = {W}, MSE = {round(err,2)}')"
      ]
    },
    {
      "cell_type": "markdown",
      "metadata": {
        "id": "5Qu1o4JhZYwI"
      },
      "source": [
        "###2.В этом коде мы избавляемся от итераций по весам, но тут есть ошибка, исправьте ее:\n"
      ]
    },
    {
      "cell_type": "code",
      "execution_count": 11,
      "metadata": {
        "colab": {
          "base_uri": "https://localhost:8080/"
        },
        "id": "WZZzDCQLY4pA",
        "outputId": "36482d16-1de7-4ce7-b884-753f97802f9e"
      },
      "outputs": [
        {
          "output_type": "stream",
          "name": "stdout",
          "text": [
            "Iteration #0: W_new = [ 8.56 26.89], MSE = 3047.75\n",
            "Iteration #10: W_new = [ 77.6383687  303.28629524], MSE = 883503.58\n",
            "Iteration #20: W_new = [ 450.90605195 2307.89992718], MSE = 63697662.63\n",
            "Iteration #30: W_new = [1355.05865491 7265.43057927], MSE = 759157636.93\n",
            "Iteration #40: W_new = [1656.99819636 8914.92234113], MSE = 1380982759.17\n",
            "Iteration #50: W_new = [ 779.46519336 4066.86103893], MSE = 349955460.88\n",
            "Iteration #60: W_new = [161.91141784 656.21255294], MSE = 11111228.63\n",
            "Iteration #70: W_new = [50.45227039 38.57457849], MSE = 39076.53\n",
            "Iteration #80: W_new = [44.59577005  4.47859734], MSE = 57.22\n",
            "Iteration #90: W_new = [44.68931156  3.88282148], MSE = 44.04\n",
            "Iteration #100: W_new = [44.81198438  3.85793017], MSE = 44.0\n",
            "Iteration #110: W_new = [44.89125028  3.8435535 ], MSE = 43.98\n",
            "Iteration #120: W_new = [44.94325639  3.83412299], MSE = 43.98\n",
            "Iteration #130: W_new = [44.97800009  3.82782276], MSE = 43.97\n",
            "Iteration #140: W_new = [45.00161389  3.82354076], MSE = 43.97\n",
            "Iteration #150: W_new = [45.0179277  3.8205825], MSE = 43.97\n",
            "Iteration #160: W_new = [45.02937478  3.81850675], MSE = 43.97\n",
            "Iteration #170: W_new = [45.03752656  3.81702855], MSE = 43.97\n",
            "Iteration #180: W_new = [45.04341381  3.81596099], MSE = 43.97\n",
            "Iteration #190: W_new = [45.04772282  3.81517961], MSE = 43.97\n",
            "Iteration #200: W_new = [45.050917   3.8146004], MSE = 43.97\n",
            "Iteration #210: W_new = [45.05331359  3.81416581], MSE = 43.97\n",
            "Iteration #220: W_new = [45.05513254  3.81383598], MSE = 43.97\n",
            "Iteration #230: W_new = [45.05652825  3.81358288], MSE = 43.97\n"
          ]
        }
      ],
      "source": [
        "n = X.shape[1]\n",
        "eta = 0.07\n",
        "W = np.array([1, 0.5])\n",
        "\n",
        "for i in range(240):\n",
        "    y_pred = np.dot(W, X)\n",
        "    err = calc_mse(y, y_pred)\n",
        "    W -= eta * (1/n * 2 * np.sum(X * (y_pred - y), axis = 1)) ### В ФУНКЦИЮ np.sum() НЕОБХОДИМО ДОБАВИТЬ ПАРАМЕТР axis =1\n",
        "    if i % 10 == 0:\n",
        "      eta /= 1.05\n",
        "      print(f'Iteration #{i}: W_new = {W}, MSE = {round(err,2)}')"
      ]
    },
    {
      "cell_type": "markdown",
      "metadata": {
        "id": "dNd19yVmBjaR"
      },
      "source": [
        "###3. Вместо того чтобы задавать количество итераций, задайте условие остановки алгоритма, когда ошибка за итерацию начинает изменяться ниже определённого порога — упрощённый аналог параметра tol в линейной регрессии в sklearn."
      ]
    },
    {
      "cell_type": "code",
      "execution_count": 13,
      "metadata": {
        "collapsed": true,
        "id": "VjV39BwKBjaR",
        "colab": {
          "base_uri": "https://localhost:8080/"
        },
        "outputId": "63e48051-3f63-450e-8b2a-c90cfb8d3942"
      },
      "outputs": [
        {
          "output_type": "stream",
          "name": "stdout",
          "text": [
            "Iteration #261: W_new = [45.06015819  3.81292465], MSE = 43.97\n"
          ]
        }
      ],
      "source": [
        "n = X.shape[1]\n",
        "eta = 0.07\n",
        "W = np.array([1, 0.5])\n",
        "num_iter = 1\n",
        "tol = 1e-07\n",
        "min_err = float('inf')\n",
        "\n",
        "while True:\n",
        "    y_pred = np.dot(W, X)\n",
        "    err = calc_mse(y, y_pred)\n",
        "    if abs(min_err - err) > tol:\n",
        "      min_err = err\n",
        "    else:\n",
        "      print(f'Iteration #{num_iter}: W_new = {W}, MSE = {round(err,2)}')\n",
        "      break\n",
        "    W -= eta * (1/n * 2 * np.sum(X * (y_pred - y), axis = 1)) \n",
        "    num_iter +=1\n",
        "    if num_iter % 10 == 0:\n",
        "      eta /= 1.05       "
      ]
    }
  ],
  "metadata": {
    "colab": {
      "provenance": []
    },
    "kernelspec": {
      "display_name": "Python 3",
      "language": "python",
      "name": "python3"
    },
    "language_info": {
      "codemirror_mode": {
        "name": "ipython",
        "version": 3
      },
      "file_extension": ".py",
      "mimetype": "text/x-python",
      "name": "python",
      "nbconvert_exporter": "python",
      "pygments_lexer": "ipython3",
      "version": "3.7.6"
    }
  },
  "nbformat": 4,
  "nbformat_minor": 0
}