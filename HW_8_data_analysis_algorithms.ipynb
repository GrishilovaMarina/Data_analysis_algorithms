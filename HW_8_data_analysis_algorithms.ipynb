{
  "nbformat": 4,
  "nbformat_minor": 0,
  "metadata": {
    "colab": {
      "provenance": []
    },
    "kernelspec": {
      "name": "python3",
      "display_name": "Python 3"
    },
    "language_info": {
      "name": "python"
    }
  },
  "cells": [
    {
      "cell_type": "markdown",
      "source": [
        "###1.Можно ли отобрать наиболее значимые признаки из имеющихся с помощью PCA? Ответ объясните."
      ],
      "metadata": {
        "id": "Jyn0hAkdVuIu"
      }
    },
    {
      "cell_type": "markdown",
      "source": [
        "####Да, можно отобрать наиболее значимые признаки из имеющихся с помощью метода главных компонент (PCA).\n",
        "\n",
        "####PCA используется для уменьшения размерности данных путем проецирования данных на новую ось, называемую осью главной компоненты. Главные компоненты являются линейными комбинациями исходных признаков, и первые главные компоненты объясняют большую часть дисперсии данных.\n",
        "\n",
        "####Поэтому, если мы выбираем первые k главных компонент, мы можем сократить количество признаков до k. Это позволит сохранить наиболее значимые признаки, которые являются наиболее информативными и наиболее сильно влияют на данные.\n",
        "\n",
        "####Также можно рассмотреть вклад каждого признака в каждую главную компоненту и отобрать те признаки, которые имеют наибольший вклад в первые k главных компонент. Таким образом, мы можем выбрать только наиболее важные признаки для дальнейшего анализа.\n"
      ],
      "metadata": {
        "id": "tstdjEJlhuQp"
      }
    },
    {
      "cell_type": "markdown",
      "source": [
        "###(*)2.Написать свою реализацию метода главных компонент с помощью сингулярного разложения с использованием функции numpy.linalg.svd(). Применить к данным на уроке и сравнить ответ"
      ],
      "metadata": {
        "id": "VcggVoQ7JwjS"
      }
    },
    {
      "cell_type": "code",
      "execution_count": 1,
      "metadata": {
        "id": "ZSpomCCCJe3H"
      },
      "outputs": [],
      "source": [
        "from sklearn.decomposition import PCA\n",
        "import numpy as np\n",
        "from sklearn.datasets import load_iris\n",
        "from sklearn import datasets\n",
        "import matplotlib.pyplot as plt\n"
      ]
    },
    {
      "cell_type": "code",
      "source": [
        "iris = datasets.load_iris()\n",
        "X = iris.data\n",
        "X.shape"
      ],
      "metadata": {
        "colab": {
          "base_uri": "https://localhost:8080/"
        },
        "id": "bW1MNM1ePJ5p",
        "outputId": "de959d57-7aae-454f-b823-c40a4001e864"
      },
      "execution_count": 2,
      "outputs": [
        {
          "output_type": "execute_result",
          "data": {
            "text/plain": [
              "(150, 4)"
            ]
          },
          "metadata": {},
          "execution_count": 2
        }
      ]
    },
    {
      "cell_type": "code",
      "source": [
        "def pca_svd(X, k):\n",
        "  X_centr = (X-np.mean(X, axis=0))/np.std(X, axis=0) #нормализация данных\n",
        "  U, S, Vt = np.linalg.svd(X_centr, full_matrices=False) #сингулярное разложение\n",
        "  V = Vt.T\n",
        "  W = V[:,:k]*np.sqrt(S[:k])  #вычисление матрицы весов признаков\n",
        "  var_exp = [(i / sum(S))*100 for i in sorted(S, reverse=True)]\n",
        "  cum_var_exp = np.cumsum(var_exp)\n",
        "  print(f'кумулятивная доля дисперсии по компонентам: {cum_var_exp}')\n",
        "  return W  "
      ],
      "metadata": {
        "id": "UAQ_jcigWM4p"
      },
      "execution_count": 3,
      "outputs": []
    },
    {
      "cell_type": "code",
      "source": [
        "W = pca_svd(X, 2)"
      ],
      "metadata": {
        "colab": {
          "base_uri": "https://localhost:8080/"
        },
        "id": "1icMpQvYXbkS",
        "outputId": "fd94ba1a-9472-4169-8ec6-19ce6e0e3a35"
      },
      "execution_count": 4,
      "outputs": [
        {
          "output_type": "stream",
          "name": "stdout",
          "text": [
            "кумулятивная доля дисперсии по компонентам: [ 53.52971788  83.48653067  95.49021308 100.        ]\n"
          ]
        }
      ]
    },
    {
      "cell_type": "code",
      "source": [
        "Z = X.dot(W)"
      ],
      "metadata": {
        "id": "LM8lT2RWPiBi"
      },
      "execution_count": 5,
      "outputs": []
    },
    {
      "cell_type": "code",
      "source": [
        "plt.figure()\n",
        "y = iris.target\n",
        "for c, i in zip(\"rgb\", [0, 1, 2]):\n",
        "    plt.scatter(Z[y == i, 0], Z[y == i, 1], c=c)\n",
        "plt.xlabel('Главная компонента 1')\n",
        "plt.ylabel('Главная компонента 2')\n",
        "plt.title('PCA датасета IRIS')\n",
        "plt.show()"
      ],
      "metadata": {
        "colab": {
          "base_uri": "https://localhost:8080/",
          "height": 295
        },
        "id": "xieVh5j-P2Bh",
        "outputId": "234184e8-8779-4a77-c650-b68d7bd70d02"
      },
      "execution_count": 6,
      "outputs": [
        {
          "output_type": "display_data",
          "data": {
            "text/plain": [
              "<Figure size 432x288 with 1 Axes>"
            ],
            "image/png": "[encoded data removed]"
          },
          "metadata": {
            "needs_background": "light"
          }
        }
      ]
    }
  ]
}